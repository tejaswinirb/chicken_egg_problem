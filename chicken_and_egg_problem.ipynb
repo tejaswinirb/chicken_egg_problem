{
  "nbformat": 4,
  "nbformat_minor": 0,
  "metadata": {
    "colab": {
      "provenance": []
    },
    "kernelspec": {
      "name": "python3",
      "display_name": "Python 3"
    },
    "language_info": {
      "name": "python"
    }
  },
  "cells": [
    {
      "cell_type": "code",
      "source": [
        "import numpy as np\n",
        "from sklearn.impute import KNNImputer\n",
        "from sklearn.preprocessing import StandardScaler\n",
        "\n",
        "# Sample data with missing values (NaNs)\n",
        "data = np.array([[1.0, np.nan, 3.0],\n",
        "                 [4.0, 5.0, np.nan],\n",
        "                 [np.nan, 8.0, 9.0]])\n",
        "\n",
        "# Initialize a KNN imputer\n",
        "knn_imputer = KNNImputer(n_neighbors=2)  # You can adjust the number of neighbors\n",
        "\n",
        "# Impute missing values\n",
        "data_imputed = knn_imputer.fit_transform(data)\n",
        "\n",
        "# Separate the feature names (chicken and egg)\n",
        "feature_names = [\"chicken\", \"egg\"]\n",
        "target_name = \"outcome\"  # We'll create an outcome variable for demonstration\n",
        "\n",
        "# Scale the features using StandardScaler\n",
        "scaler = StandardScaler()\n",
        "data_scaled = scaler.fit_transform(data_imputed)\n",
        "\n",
        "# Reattach feature names and target variable\n",
        "data_with_names = np.column_stack((data_scaled, data_imputed.sum(axis=1)))\n",
        "feature_names_with_target = feature_names + [target_name]\n",
        "\n",
        "# Display the data with feature names\n",
        "print(\"Original Data:\")\n",
        "print(data)\n",
        "\n",
        "print(\"\\nImputed and Scaled Data:\")\n",
        "print(data_with_names)\n",
        "\n",
        "print(\"\\nFeature Names (Including 'Chicken' and 'Egg'):\")\n",
        "print(feature_names_with_target)\n"
      ],
      "metadata": {
        "colab": {
          "base_uri": "https://localhost:8080/"
        },
        "id": "ME8bGCzRoIhR",
        "outputId": "bc581509-6ccb-48e4-edfd-8ea8ca240adf"
      },
      "execution_count": null,
      "outputs": [
        {
          "output_type": "stream",
          "name": "stdout",
          "text": [
            "Original Data:\n",
            "[[ 1. nan  3.]\n",
            " [ 4.  5. nan]\n",
            " [nan  8.  9.]]\n",
            "\n",
            "Imputed and Scaled Data:\n",
            "[[-1.22474487  0.         -1.22474487 10.5       ]\n",
            " [ 1.22474487 -1.22474487  0.         15.        ]\n",
            " [ 0.          1.22474487  1.22474487 19.5       ]]\n",
            "\n",
            "Feature Names (Including 'Chicken' and 'Egg'):\n",
            "['chicken', 'egg', 'outcome']\n"
          ]
        }
      ]
    }
  ]
}